{
 "cells": [
  {
   "cell_type": "code",
   "execution_count": 2,
   "id": "cfe813fd",
   "metadata": {},
   "outputs": [
    {
     "name": "stderr",
     "output_type": "stream",
     "text": [
      "/Users/josemanuelmagallanes/opt/anaconda3/envs/spatial/lib/python3.8/site-packages/IPython/core/interactiveshell.py:3457: DtypeWarning: Columns (8) have mixed types.Specify dtype option on import or set low_memory=False.\n",
      "  exec(code_obj, self.user_global_ns, self.user_ns)\n"
     ]
    },
    {
     "data": {
      "text/html": [
       "<div>\n",
       "<style scoped>\n",
       "    .dataframe tbody tr th:only-of-type {\n",
       "        vertical-align: middle;\n",
       "    }\n",
       "\n",
       "    .dataframe tbody tr th {\n",
       "        vertical-align: top;\n",
       "    }\n",
       "\n",
       "    .dataframe thead th {\n",
       "        text-align: right;\n",
       "    }\n",
       "</style>\n",
       "<table border=\"1\" class=\"dataframe\">\n",
       "  <thead>\n",
       "    <tr style=\"text-align: right;\">\n",
       "      <th></th>\n",
       "      <th>FECHA_CORTE</th>\n",
       "      <th>FECHA_FALLECIMIENTO</th>\n",
       "      <th>EDAD_DECLARADA</th>\n",
       "      <th>SEXO</th>\n",
       "      <th>CLASIFICACION_DEF</th>\n",
       "      <th>DEPARTAMENTO</th>\n",
       "      <th>PROVINCIA</th>\n",
       "      <th>DISTRITO</th>\n",
       "      <th>UBIGEO</th>\n",
       "      <th>UUID</th>\n",
       "    </tr>\n",
       "  </thead>\n",
       "  <tbody>\n",
       "    <tr>\n",
       "      <th>0</th>\n",
       "      <td>20220217</td>\n",
       "      <td>20211127</td>\n",
       "      <td>77</td>\n",
       "      <td>MASCULINO</td>\n",
       "      <td>Criterio virolÃ³gico</td>\n",
       "      <td>ANCASH</td>\n",
       "      <td>SANTA</td>\n",
       "      <td>NEPEÃA</td>\n",
       "      <td>021806</td>\n",
       "      <td>25819410.0</td>\n",
       "    </tr>\n",
       "    <tr>\n",
       "      <th>1</th>\n",
       "      <td>20220217</td>\n",
       "      <td>20210425</td>\n",
       "      <td>70</td>\n",
       "      <td>MASCULINO</td>\n",
       "      <td>Criterio virolÃ³gico</td>\n",
       "      <td>LIMA</td>\n",
       "      <td>LIMA</td>\n",
       "      <td>VILLA MARIA DEL TRIUNFO</td>\n",
       "      <td>150143</td>\n",
       "      <td>24693187.0</td>\n",
       "    </tr>\n",
       "    <tr>\n",
       "      <th>2</th>\n",
       "      <td>20220217</td>\n",
       "      <td>20210428</td>\n",
       "      <td>70</td>\n",
       "      <td>MASCULINO</td>\n",
       "      <td>Criterio virolÃ³gico</td>\n",
       "      <td>LIMA</td>\n",
       "      <td>LIMA</td>\n",
       "      <td>SAN JUAN DE MIRAFLORES</td>\n",
       "      <td>150133</td>\n",
       "      <td>24693271.0</td>\n",
       "    </tr>\n",
       "    <tr>\n",
       "      <th>3</th>\n",
       "      <td>20220217</td>\n",
       "      <td>20210430</td>\n",
       "      <td>59</td>\n",
       "      <td>FEMENINO</td>\n",
       "      <td>Criterio virolÃ³gico</td>\n",
       "      <td>AYACUCHO</td>\n",
       "      <td>HUANTA</td>\n",
       "      <td>HUANTA</td>\n",
       "      <td>050401</td>\n",
       "      <td>24735448.0</td>\n",
       "    </tr>\n",
       "    <tr>\n",
       "      <th>4</th>\n",
       "      <td>20220217</td>\n",
       "      <td>20210421</td>\n",
       "      <td>55</td>\n",
       "      <td>MASCULINO</td>\n",
       "      <td>Criterio SINADEF</td>\n",
       "      <td>LIMA</td>\n",
       "      <td>LIMA</td>\n",
       "      <td>ATE</td>\n",
       "      <td>150103</td>\n",
       "      <td>24786629.0</td>\n",
       "    </tr>\n",
       "    <tr>\n",
       "      <th>...</th>\n",
       "      <td>...</td>\n",
       "      <td>...</td>\n",
       "      <td>...</td>\n",
       "      <td>...</td>\n",
       "      <td>...</td>\n",
       "      <td>...</td>\n",
       "      <td>...</td>\n",
       "      <td>...</td>\n",
       "      <td>...</td>\n",
       "      <td>...</td>\n",
       "    </tr>\n",
       "    <tr>\n",
       "      <th>209105</th>\n",
       "      <td>20220217</td>\n",
       "      <td>20200519</td>\n",
       "      <td>69</td>\n",
       "      <td>FEMENINO</td>\n",
       "      <td>Criterio investigaciÃ³n EpidemiolÃ³gica</td>\n",
       "      <td>LORETO</td>\n",
       "      <td>MAYNAS</td>\n",
       "      <td>BELEN</td>\n",
       "      <td>160112</td>\n",
       "      <td>NaN</td>\n",
       "    </tr>\n",
       "    <tr>\n",
       "      <th>209106</th>\n",
       "      <td>20220217</td>\n",
       "      <td>20200602</td>\n",
       "      <td>67</td>\n",
       "      <td>MASCULINO</td>\n",
       "      <td>Criterio clÃ­nico</td>\n",
       "      <td>PIURA</td>\n",
       "      <td>TALARA</td>\n",
       "      <td>PARIÃAS</td>\n",
       "      <td>200701</td>\n",
       "      <td>NaN</td>\n",
       "    </tr>\n",
       "    <tr>\n",
       "      <th>209107</th>\n",
       "      <td>20220217</td>\n",
       "      <td>20210213</td>\n",
       "      <td>32</td>\n",
       "      <td>MASCULINO</td>\n",
       "      <td>Criterio SINADEF</td>\n",
       "      <td>LIMA</td>\n",
       "      <td>LIMA</td>\n",
       "      <td>SAN JUAN DE MIRAFLORES</td>\n",
       "      <td>150133</td>\n",
       "      <td>NaN</td>\n",
       "    </tr>\n",
       "    <tr>\n",
       "      <th>209108</th>\n",
       "      <td>20220217</td>\n",
       "      <td>20201215</td>\n",
       "      <td>59</td>\n",
       "      <td>MASCULINO</td>\n",
       "      <td>Criterio clÃ­nico</td>\n",
       "      <td>LA LIBERTAD</td>\n",
       "      <td>TRUJILLO</td>\n",
       "      <td>TRUJILLO</td>\n",
       "      <td>130101</td>\n",
       "      <td>NaN</td>\n",
       "    </tr>\n",
       "    <tr>\n",
       "      <th>209109</th>\n",
       "      <td>20220217</td>\n",
       "      <td>20200527</td>\n",
       "      <td>70</td>\n",
       "      <td>FEMENINO</td>\n",
       "      <td>Criterio clÃ­nico</td>\n",
       "      <td>LIMA</td>\n",
       "      <td>LIMA</td>\n",
       "      <td>SAN JUAN DE MIRAFLORES</td>\n",
       "      <td>150133</td>\n",
       "      <td>NaN</td>\n",
       "    </tr>\n",
       "  </tbody>\n",
       "</table>\n",
       "<p>209110 rows × 10 columns</p>\n",
       "</div>"
      ],
      "text/plain": [
       "        FECHA_CORTE  FECHA_FALLECIMIENTO  EDAD_DECLARADA       SEXO  \\\n",
       "0          20220217             20211127              77  MASCULINO   \n",
       "1          20220217             20210425              70  MASCULINO   \n",
       "2          20220217             20210428              70  MASCULINO   \n",
       "3          20220217             20210430              59   FEMENINO   \n",
       "4          20220217             20210421              55  MASCULINO   \n",
       "...             ...                  ...             ...        ...   \n",
       "209105     20220217             20200519              69   FEMENINO   \n",
       "209106     20220217             20200602              67  MASCULINO   \n",
       "209107     20220217             20210213              32  MASCULINO   \n",
       "209108     20220217             20201215              59  MASCULINO   \n",
       "209109     20220217             20200527              70   FEMENINO   \n",
       "\n",
       "                              CLASIFICACION_DEF DEPARTAMENTO PROVINCIA  \\\n",
       "0                          Criterio virolÃ³gico       ANCASH     SANTA   \n",
       "1                          Criterio virolÃ³gico         LIMA      LIMA   \n",
       "2                          Criterio virolÃ³gico         LIMA      LIMA   \n",
       "3                          Criterio virolÃ³gico     AYACUCHO    HUANTA   \n",
       "4                              Criterio SINADEF         LIMA      LIMA   \n",
       "...                                         ...          ...       ...   \n",
       "209105  Criterio investigaciÃ³n EpidemiolÃ³gica       LORETO    MAYNAS   \n",
       "209106                        Criterio clÃ­nico        PIURA    TALARA   \n",
       "209107                         Criterio SINADEF         LIMA      LIMA   \n",
       "209108                        Criterio clÃ­nico  LA LIBERTAD  TRUJILLO   \n",
       "209109                        Criterio clÃ­nico         LIMA      LIMA   \n",
       "\n",
       "                       DISTRITO  UBIGEO        UUID  \n",
       "0                       NEPEÃA  021806  25819410.0  \n",
       "1       VILLA MARIA DEL TRIUNFO  150143  24693187.0  \n",
       "2        SAN JUAN DE MIRAFLORES  150133  24693271.0  \n",
       "3                        HUANTA  050401  24735448.0  \n",
       "4                           ATE  150103  24786629.0  \n",
       "...                         ...     ...         ...  \n",
       "209105                    BELEN  160112         NaN  \n",
       "209106                 PARIÃAS  200701         NaN  \n",
       "209107   SAN JUAN DE MIRAFLORES  150133         NaN  \n",
       "209108                 TRUJILLO  130101         NaN  \n",
       "209109   SAN JUAN DE MIRAFLORES  150133         NaN  \n",
       "\n",
       "[209110 rows x 10 columns]"
      ]
     },
     "execution_count": 2,
     "metadata": {},
     "output_type": "execute_result"
    }
   ],
   "source": [
    "# inspector requies nodejs\n",
    "import pandas as pd\n",
    "covidmuerte=pd.read_csv(\"fallecidos_covid.csv\",sep=';',encoding='utf-8')\n",
    "covidmuerte"
   ]
  },
  {
   "cell_type": "code",
   "execution_count": 3,
   "id": "2f7c507c",
   "metadata": {},
   "outputs": [],
   "source": [
    "covidmuerte[['DEPARTAMENTO','PROVINCIA','DISTRITO']]=covidmuerte[['DEPARTAMENTO','PROVINCIA','DISTRITO']].apply(lambda x: x.str.replace(\"Ã\\x91\",\"Ñ\"))"
   ]
  },
  {
   "cell_type": "code",
   "execution_count": 4,
   "id": "fa919851",
   "metadata": {},
   "outputs": [],
   "source": [
    "covidmuerte.FECHA_FALLECIMIENTO=pd.to_datetime(covidmuerte.FECHA_FALLECIMIENTO, format=\"%Y%m%d\")"
   ]
  },
  {
   "cell_type": "code",
   "execution_count": 5,
   "id": "7607676a",
   "metadata": {},
   "outputs": [],
   "source": [
    "covidmuerte['periodo']=covidmuerte.FECHA_FALLECIMIENTO.dt.to_period('M')"
   ]
  },
  {
   "cell_type": "code",
   "execution_count": 6,
   "id": "4d4863b5-fe6b-4ca5-b767-5b6b202e0eb4",
   "metadata": {},
   "outputs": [
    {
     "name": "stdout",
     "output_type": "stream",
     "text": [
      "<class 'pandas.core.frame.DataFrame'>\n",
      "RangeIndex: 209110 entries, 0 to 209109\n",
      "Data columns (total 12 columns):\n",
      " #   Column               Non-Null Count   Dtype         \n",
      "---  ------               --------------   -----         \n",
      " 0   FECHA_CORTE          209110 non-null  int64         \n",
      " 1   FECHA_FALLECIMIENTO  209110 non-null  datetime64[ns]\n",
      " 2   EDAD_DECLARADA       209110 non-null  int64         \n",
      " 3   SEXO                 209110 non-null  object        \n",
      " 4   CLASIFICACION_DEF    209110 non-null  object        \n",
      " 5   DEPARTAMENTO         209110 non-null  object        \n",
      " 6   PROVINCIA            209105 non-null  object        \n",
      " 7   DISTRITO             209105 non-null  object        \n",
      " 8   UBIGEO               209110 non-null  object        \n",
      " 9   UUID                 205523 non-null  float64       \n",
      " 10  periodo              209110 non-null  period[M]     \n",
      " 11  casos                209110 non-null  int64         \n",
      "dtypes: datetime64[ns](1), float64(1), int64(3), object(6), period[M](1)\n",
      "memory usage: 19.1+ MB\n"
     ]
    }
   ],
   "source": [
    "covidmuerte['casos']=1\n",
    "covidmuerte.info()"
   ]
  },
  {
   "cell_type": "code",
   "execution_count": 7,
   "id": "d29cd574",
   "metadata": {},
   "outputs": [],
   "source": [
    "GROUPER=['periodo','DEPARTAMENTO','PROVINCIA']\n"
   ]
  },
  {
   "cell_type": "code",
   "execution_count": null,
   "id": "f9a11177",
   "metadata": {},
   "outputs": [],
   "source": []
  },
  {
   "cell_type": "code",
   "execution_count": 8,
   "id": "556d2320",
   "metadata": {},
   "outputs": [
    {
     "data": {
      "text/plain": [
       "['periodo', 'DEPARTAMENTO', 'PROVINCIA']"
      ]
     },
     "execution_count": 8,
     "metadata": {},
     "output_type": "execute_result"
    }
   ],
   "source": [
    "GROUPER"
   ]
  },
  {
   "cell_type": "code",
   "execution_count": 16,
   "id": "71e66f29",
   "metadata": {},
   "outputs": [
    {
     "data": {
      "text/html": [
       "<div>\n",
       "<style scoped>\n",
       "    .dataframe tbody tr th:only-of-type {\n",
       "        vertical-align: middle;\n",
       "    }\n",
       "\n",
       "    .dataframe tbody tr th {\n",
       "        vertical-align: top;\n",
       "    }\n",
       "\n",
       "    .dataframe thead th {\n",
       "        text-align: right;\n",
       "    }\n",
       "</style>\n",
       "<table border=\"1\" class=\"dataframe\">\n",
       "  <thead>\n",
       "    <tr style=\"text-align: right;\">\n",
       "      <th></th>\n",
       "      <th>periodo</th>\n",
       "      <th>DEPARTAMENTO</th>\n",
       "      <th>PROVINCIA</th>\n",
       "      <th>casos</th>\n",
       "    </tr>\n",
       "  </thead>\n",
       "  <tbody>\n",
       "    <tr>\n",
       "      <th>0</th>\n",
       "      <td>2020-03</td>\n",
       "      <td>ANCASH</td>\n",
       "      <td>POMABAMBA</td>\n",
       "      <td>1</td>\n",
       "    </tr>\n",
       "    <tr>\n",
       "      <th>1</th>\n",
       "      <td>2020-03</td>\n",
       "      <td>ANCASH</td>\n",
       "      <td>SANTA</td>\n",
       "      <td>4</td>\n",
       "    </tr>\n",
       "    <tr>\n",
       "      <th>2</th>\n",
       "      <td>2020-03</td>\n",
       "      <td>AREQUIPA</td>\n",
       "      <td>AREQUIPA</td>\n",
       "      <td>1</td>\n",
       "    </tr>\n",
       "    <tr>\n",
       "      <th>3</th>\n",
       "      <td>2020-03</td>\n",
       "      <td>AREQUIPA</td>\n",
       "      <td>CAYLLOMA</td>\n",
       "      <td>1</td>\n",
       "    </tr>\n",
       "    <tr>\n",
       "      <th>4</th>\n",
       "      <td>2020-03</td>\n",
       "      <td>AYACUCHO</td>\n",
       "      <td>HUAMANGA</td>\n",
       "      <td>1</td>\n",
       "    </tr>\n",
       "    <tr>\n",
       "      <th>...</th>\n",
       "      <td>...</td>\n",
       "      <td>...</td>\n",
       "      <td>...</td>\n",
       "      <td>...</td>\n",
       "    </tr>\n",
       "    <tr>\n",
       "      <th>3875</th>\n",
       "      <td>2022-02</td>\n",
       "      <td>TUMBES</td>\n",
       "      <td>CONTRALMIRANTE VILLAR</td>\n",
       "      <td>3</td>\n",
       "    </tr>\n",
       "    <tr>\n",
       "      <th>3876</th>\n",
       "      <td>2022-02</td>\n",
       "      <td>TUMBES</td>\n",
       "      <td>TUMBES</td>\n",
       "      <td>24</td>\n",
       "    </tr>\n",
       "    <tr>\n",
       "      <th>3877</th>\n",
       "      <td>2022-02</td>\n",
       "      <td>TUMBES</td>\n",
       "      <td>ZARUMILLA</td>\n",
       "      <td>6</td>\n",
       "    </tr>\n",
       "    <tr>\n",
       "      <th>3878</th>\n",
       "      <td>2022-02</td>\n",
       "      <td>UCAYALI</td>\n",
       "      <td>CORONEL PORTILLO</td>\n",
       "      <td>14</td>\n",
       "    </tr>\n",
       "    <tr>\n",
       "      <th>3879</th>\n",
       "      <td>2022-02</td>\n",
       "      <td>UCAYALI</td>\n",
       "      <td>PADRE ABAD</td>\n",
       "      <td>1</td>\n",
       "    </tr>\n",
       "  </tbody>\n",
       "</table>\n",
       "<p>3880 rows × 4 columns</p>\n",
       "</div>"
      ],
      "text/plain": [
       "      periodo DEPARTAMENTO              PROVINCIA  casos\n",
       "0     2020-03       ANCASH              POMABAMBA      1\n",
       "1     2020-03       ANCASH                  SANTA      4\n",
       "2     2020-03     AREQUIPA               AREQUIPA      1\n",
       "3     2020-03     AREQUIPA               CAYLLOMA      1\n",
       "4     2020-03     AYACUCHO               HUAMANGA      1\n",
       "...       ...          ...                    ...    ...\n",
       "3875  2022-02       TUMBES  CONTRALMIRANTE VILLAR      3\n",
       "3876  2022-02       TUMBES                 TUMBES     24\n",
       "3877  2022-02       TUMBES              ZARUMILLA      6\n",
       "3878  2022-02      UCAYALI       CORONEL PORTILLO     14\n",
       "3879  2022-02      UCAYALI             PADRE ABAD      1\n",
       "\n",
       "[3880 rows x 4 columns]"
      ]
     },
     "execution_count": 16,
     "metadata": {},
     "output_type": "execute_result"
    }
   ],
   "source": [
    "GROUPER=['periodo','DEPARTAMENTO','PROVINCIA']\n",
    "covidCasosMesProvincia=covidmuerte.groupby(GROUPER).agg({'casos':'sum'})\n",
    "covidCasosMesProvincia.reset_index(inplace=True)\n",
    "covidCasosMesProvincia"
   ]
  },
  {
   "cell_type": "code",
   "execution_count": 17,
   "id": "aca67f28",
   "metadata": {},
   "outputs": [
    {
     "data": {
      "text/plain": [
       "count     3880.000000\n",
       "mean        53.893041\n",
       "std        391.765150\n",
       "min          1.000000\n",
       "25%          3.000000\n",
       "50%          7.000000\n",
       "75%         21.000000\n",
       "max      10399.000000\n",
       "Name: casos, dtype: float64"
      ]
     },
     "execution_count": 17,
     "metadata": {},
     "output_type": "execute_result"
    }
   ],
   "source": [
    "covidCasosMesProvincia.casos.describe()"
   ]
  },
  {
   "cell_type": "code",
   "execution_count": 18,
   "id": "71812418",
   "metadata": {},
   "outputs": [
    {
     "name": "stdout",
     "output_type": "stream",
     "text": [
      "<class 'pandas.core.frame.DataFrame'>\n",
      "RangeIndex: 3880 entries, 0 to 3879\n",
      "Data columns (total 4 columns):\n",
      " #   Column        Non-Null Count  Dtype    \n",
      "---  ------        --------------  -----    \n",
      " 0   periodo       3880 non-null   period[M]\n",
      " 1   DEPARTAMENTO  3880 non-null   object   \n",
      " 2   PROVINCIA     3880 non-null   object   \n",
      " 3   casos         3880 non-null   int64    \n",
      "dtypes: int64(1), object(2), period[M](1)\n",
      "memory usage: 121.4+ KB\n"
     ]
    }
   ],
   "source": [
    "covidCasosMesProvincia.info()"
   ]
  },
  {
   "cell_type": "code",
   "execution_count": 14,
   "id": "da431602-9159-492a-b51a-8c35f6987825",
   "metadata": {},
   "outputs": [],
   "source": [
    "import dtale"
   ]
  },
  {
   "cell_type": "code",
   "execution_count": 19,
   "id": "dc9add59",
   "metadata": {},
   "outputs": [
    {
     "data": {
      "text/html": [
       "\n",
       "        <iframe\n",
       "            width=\"100%\"\n",
       "            height=\"475\"\n",
       "            src=\"http://JoseManuels-MacBook-Pro.local:40000/dtale/iframe/2\"\n",
       "            frameborder=\"0\"\n",
       "            allowfullscreen\n",
       "            \n",
       "        ></iframe>\n",
       "        "
      ],
      "text/plain": [
       "<IPython.lib.display.IFrame at 0x7fd31bdcf730>"
      ]
     },
     "metadata": {},
     "output_type": "display_data"
    },
    {
     "data": {
      "text/plain": []
     },
     "execution_count": 19,
     "metadata": {},
     "output_type": "execute_result"
    },
    {
     "name": "stdout",
     "output_type": "stream",
     "text": [
      "Exception occurred while processing request: It appears there is duplicates in your index, please specify an aggregation!\n",
      "Traceback (most recent call last):\n",
      "  File \"/Users/josemanuelmagallanes/opt/anaconda3/envs/spatial/lib/python3.8/site-packages/dtale/views.py\", line 114, in _handle_exceptions\n",
      "    return func(*args, **kwargs)\n",
      "  File \"/Users/josemanuelmagallanes/opt/anaconda3/envs/spatial/lib/python3.8/site-packages/dtale/views.py\", line 3628, in get_timeseries_analysis\n",
      "    data = ts_rpt.run()\n",
      "  File \"/Users/josemanuelmagallanes/opt/anaconda3/envs/spatial/lib/python3.8/site-packages/dtale/timeseries_analysis.py\", line 48, in run\n",
      "    return self.report.run(data)\n",
      "  File \"/Users/josemanuelmagallanes/opt/anaconda3/envs/spatial/lib/python3.8/site-packages/dtale/timeseries_analysis.py\", line 93, in run\n",
      "    df = build_data(data, self.cfg)\n",
      "  File \"/Users/josemanuelmagallanes/opt/anaconda3/envs/spatial/lib/python3.8/site-packages/dtale/timeseries_analysis.py\", line 18, in build_data\n",
      "    raise ValueError(\n",
      "ValueError: It appears there is duplicates in your index, please specify an aggregation!\n"
     ]
    },
    {
     "name": "stderr",
     "output_type": "stream",
     "text": [
      "2022-02-20 22:54:53,404 - ERROR    - Exception occurred while processing request: It appears there is duplicates in your index, please specify an aggregation!\n",
      "Traceback (most recent call last):\n",
      "  File \"/Users/josemanuelmagallanes/opt/anaconda3/envs/spatial/lib/python3.8/site-packages/dtale/views.py\", line 114, in _handle_exceptions\n",
      "    return func(*args, **kwargs)\n",
      "  File \"/Users/josemanuelmagallanes/opt/anaconda3/envs/spatial/lib/python3.8/site-packages/dtale/views.py\", line 3628, in get_timeseries_analysis\n",
      "    data = ts_rpt.run()\n",
      "  File \"/Users/josemanuelmagallanes/opt/anaconda3/envs/spatial/lib/python3.8/site-packages/dtale/timeseries_analysis.py\", line 48, in run\n",
      "    return self.report.run(data)\n",
      "  File \"/Users/josemanuelmagallanes/opt/anaconda3/envs/spatial/lib/python3.8/site-packages/dtale/timeseries_analysis.py\", line 93, in run\n",
      "    df = build_data(data, self.cfg)\n",
      "  File \"/Users/josemanuelmagallanes/opt/anaconda3/envs/spatial/lib/python3.8/site-packages/dtale/timeseries_analysis.py\", line 18, in build_data\n",
      "    raise ValueError(\n",
      "ValueError: It appears there is duplicates in your index, please specify an aggregation!\n"
     ]
    }
   ],
   "source": [
    "dtale.show(covidCasosMesProvincia)"
   ]
  },
  {
   "cell_type": "code",
   "execution_count": null,
   "id": "0eb9adca",
   "metadata": {},
   "outputs": [],
   "source": []
  }
 ],
 "metadata": {
  "kernelspec": {
   "display_name": "Python 3 (ipykernel)",
   "language": "python",
   "name": "python3"
  },
  "language_info": {
   "codemirror_mode": {
    "name": "ipython",
    "version": 3
   },
   "file_extension": ".py",
   "mimetype": "text/x-python",
   "name": "python",
   "nbconvert_exporter": "python",
   "pygments_lexer": "ipython3",
   "version": "3.8.12"
  }
 },
 "nbformat": 4,
 "nbformat_minor": 5
}
